{
 "cells": [
  {
   "cell_type": "code",
   "execution_count": 1,
   "id": "23e365a1-f264-4c4b-b8f0-f2b77aa628d1",
   "metadata": {},
   "outputs": [
    {
     "name": "stdout",
     "output_type": "stream",
     "text": [
      "1\n",
      "2\n",
      "3\n",
      "4\n"
     ]
    }
   ],
   "source": [
    "# 1-Write a program to print numbers from 1 to 10 but stop if the number is 5.\n",
    "num=1\n",
    "while num <=10:\n",
    "    if num ==5:\n",
    "        break\n",
    "    print(num)\n",
    "    num +=1 "
   ]
  },
  {
   "cell_type": "code",
   "execution_count": 4,
   "id": "147b0fe6-54d7-4345-9d66-9660123cfc5d",
   "metadata": {},
   "outputs": [
    {
     "name": "stdout",
     "output_type": "stream",
     "text": [
      "1\n",
      "2\n",
      "vipin\n",
      "pwskills\n"
     ]
    }
   ],
   "source": [
    "# 2-Write a program to iterate through a list and stop when encounting a specific element.\n",
    "l=[1,2,\"vipin\",\"pwskills\",\"data analytics\"]\n",
    "for i in l:\n",
    "    if i==\"data analytics\":\n",
    "        break\n",
    "    print(i)"
   ]
  },
  {
   "cell_type": "code",
   "execution_count": 5,
   "id": "9abe458e-9169-4ebb-8a95-0f305151965a",
   "metadata": {},
   "outputs": [
    {
     "name": "stdout",
     "output_type": "stream",
     "text": [
      "1\n",
      "3\n",
      "5\n",
      "7\n",
      "9\n"
     ]
    }
   ],
   "source": [
    "# 3-Write a program to skip printing even numbers from 1 to 10.\n",
    "for num in range(1,11):\n",
    "    if num%2!=0:\n",
    "        print(num)"
   ]
  },
  {
   "cell_type": "code",
   "execution_count": 7,
   "id": "6f4d84ab-d222-4d23-8e52-8d3212b0bcd5",
   "metadata": {},
   "outputs": [
    {
     "name": "stdout",
     "output_type": "stream",
     "text": [
      "0\n",
      "1\n",
      "2\n",
      "3\n",
      "4\n",
      "5\n",
      "6\n",
      "7\n",
      "8\n",
      "9\n"
     ]
    }
   ],
   "source": [
    "# 4-Write a program to print number from 0 to 9 using range.\n",
    "for i in range(0,10):\n",
    "    print(i)"
   ]
  },
  {
   "cell_type": "code",
   "execution_count": 8,
   "id": "281bb88c-5913-4d7a-9aef-c085035b3d74",
   "metadata": {},
   "outputs": [
    {
     "name": "stdin",
     "output_type": "stream",
     "text": [
      "enter a number: 5\n"
     ]
    },
    {
     "name": "stdout",
     "output_type": "stream",
     "text": [
      "5 x 1 = 5\n"
     ]
    }
   ],
   "source": [
    "# 5-Write a program to print multiplication tables from 1 to 5,but stop after the first table is printed for each number.\n",
    "n=int(input(\"enter a number:\"))\n",
    "for i in range (1,5):\n",
    "    print(n,\"x\",i,\"=\",n*i)\n",
    "    if i==1:\n",
    "        break"
   ]
  },
  {
   "cell_type": "code",
   "execution_count": null,
   "id": "ba98661e-46ff-43b4-a4b0-2e0bd207d202",
   "metadata": {},
   "outputs": [
    {
     "name": "stdout",
     "output_type": "stream",
     "text": [
      "1\n"
     ]
    }
   ],
   "source": [
    "# 6-Wite a program to skip printing even numbers using a while loop.\n",
    "num=1\n",
    "while num<=10:\n",
    "    if num%2!=0:\n",
    "        print(num)\n",
    "        num+=1"
   ]
  },
  {
   "cell_type": "code",
   "execution_count": null,
   "id": "09378ef1-1c42-49b6-bb59-b21a22e86404",
   "metadata": {},
   "outputs": [],
   "source": []
  }
 ],
 "metadata": {
  "kernelspec": {
   "display_name": "Python 3 (ipykernel)",
   "language": "python",
   "name": "python3"
  },
  "language_info": {
   "codemirror_mode": {
    "name": "ipython",
    "version": 3
   },
   "file_extension": ".py",
   "mimetype": "text/x-python",
   "name": "python",
   "nbconvert_exporter": "python",
   "pygments_lexer": "ipython3",
   "version": "3.10.8"
  }
 },
 "nbformat": 4,
 "nbformat_minor": 5
}
